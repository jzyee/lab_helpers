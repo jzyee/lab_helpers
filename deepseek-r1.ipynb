{
 "cells": [
  {
   "cell_type": "code",
   "execution_count": 1,
   "metadata": {},
   "outputs": [],
   "source": [
    "import os\n",
    "os.environ[\"CUDA_VISIBLE_DEVICES\"] = \"0\"\n",
    "\n",
    "import torch\n",
    "from transformers import AutoModelForCausalLM, AutoTokenizer\n",
    "\n",
    "from rich.console import Console\n",
    "from rich.theme import Theme\n",
    "\n",
    "console = Console()"
   ]
  },
  {
   "cell_type": "code",
   "execution_count": null,
   "metadata": {},
   "outputs": [
    {
     "data": {
      "application/vnd.jupyter.widget-view+json": {
       "model_id": "b8e33eb864fa4deeb41b53c3122e42f5",
       "version_major": 2,
       "version_minor": 0
      },
      "text/plain": [
       "config.json:   0%|          | 0.00/664 [00:00<?, ?B/s]"
      ]
     },
     "metadata": {},
     "output_type": "display_data"
    },
    {
     "data": {
      "application/vnd.jupyter.widget-view+json": {
       "model_id": "f2399ca66d014ef0950341bd8fc1f907",
       "version_major": 2,
       "version_minor": 0
      },
      "text/plain": [
       "model.safetensors.index.json:   0%|          | 0.00/48.0k [00:00<?, ?B/s]"
      ]
     },
     "metadata": {},
     "output_type": "display_data"
    },
    {
     "data": {
      "application/vnd.jupyter.widget-view+json": {
       "model_id": "59512b8c365a4b719101c0165616081d",
       "version_major": 2,
       "version_minor": 0
      },
      "text/plain": [
       "Downloading shards:   0%|          | 0/4 [00:00<?, ?it/s]"
      ]
     },
     "metadata": {},
     "output_type": "display_data"
    },
    {
     "data": {
      "application/vnd.jupyter.widget-view+json": {
       "model_id": "799dcd8b102d427e9501dc80fc880a54",
       "version_major": 2,
       "version_minor": 0
      },
      "text/plain": [
       "model-00001-of-000004.safetensors:   0%|          | 0.00/8.71G [00:00<?, ?B/s]"
      ]
     },
     "metadata": {},
     "output_type": "display_data"
    },
    {
     "data": {
      "application/vnd.jupyter.widget-view+json": {
       "model_id": "808cd40e7d8141a9960d93806085db48",
       "version_major": 2,
       "version_minor": 0
      },
      "text/plain": [
       "model-00002-of-000004.safetensors:   0%|          | 0.00/8.67G [00:00<?, ?B/s]"
      ]
     },
     "metadata": {},
     "output_type": "display_data"
    },
    {
     "data": {
      "application/vnd.jupyter.widget-view+json": {
       "model_id": "d61d9eb82c2d431fb857ae159035f2be",
       "version_major": 2,
       "version_minor": 0
      },
      "text/plain": [
       "model-00003-of-000004.safetensors:   0%|          | 0.00/8.67G [00:00<?, ?B/s]"
      ]
     },
     "metadata": {},
     "output_type": "display_data"
    },
    {
     "data": {
      "application/vnd.jupyter.widget-view+json": {
       "model_id": "0d3be3a2f77c406181af63226d8bb239",
       "version_major": 2,
       "version_minor": 0
      },
      "text/plain": [
       "model-00004-of-000004.safetensors:   0%|          | 0.00/3.49G [00:00<?, ?B/s]"
      ]
     },
     "metadata": {},
     "output_type": "display_data"
    },
    {
     "data": {
      "application/vnd.jupyter.widget-view+json": {
       "model_id": "b7c6a2bee0f74054aeb76887e948d15d",
       "version_major": 2,
       "version_minor": 0
      },
      "text/plain": [
       "Loading checkpoint shards:   0%|          | 0/4 [00:00<?, ?it/s]"
      ]
     },
     "metadata": {},
     "output_type": "display_data"
    },
    {
     "data": {
      "application/vnd.jupyter.widget-view+json": {
       "model_id": "db8a53a530fb4b30b01253e63e3cd4eb",
       "version_major": 2,
       "version_minor": 0
      },
      "text/plain": [
       "generation_config.json:   0%|          | 0.00/181 [00:00<?, ?B/s]"
      ]
     },
     "metadata": {},
     "output_type": "display_data"
    },
    {
     "data": {
      "application/vnd.jupyter.widget-view+json": {
       "model_id": "6f74a236d5114dabb6d50fc9f4d4d0de",
       "version_major": 2,
       "version_minor": 0
      },
      "text/plain": [
       "tokenizer_config.json:   0%|          | 0.00/3.07k [00:00<?, ?B/s]"
      ]
     },
     "metadata": {},
     "output_type": "display_data"
    },
    {
     "data": {
      "application/vnd.jupyter.widget-view+json": {
       "model_id": "9b371dbfd099437085ace538c4c6ebf7",
       "version_major": 2,
       "version_minor": 0
      },
      "text/plain": [
       "tokenizer.json:   0%|          | 0.00/7.03M [00:00<?, ?B/s]"
      ]
     },
     "metadata": {},
     "output_type": "display_data"
    }
   ],
   "source": [
    "model_name = \"deepseek-ai/DeepSeek-R1-Distill-Qwen-7B\" #\"deepseek-ai/DeepSeek-R1-Distill-Qwen-14B\"\n",
    "\n",
    "model = AutoModelForCausalLM.from_pretrained(\n",
    "    model_name,\n",
    "    device_map=\"auto\",\n",
    "    cache_dir=\"/external-raid/scratch/SIT/common/deepseek-r1\",\n",
    "    trust_remote_code=True\n",
    ").eval()\n",
    "\n",
    "tokenizer = AutoTokenizer.from_pretrained(\n",
    "    model_name,\n",
    "    cache_dir=\"/external-raid/scratch/SIT/common/deepseek-r1\",\n",
    "    trust_remote_code=True\n",
    ")\n"
   ]
  },
  {
   "cell_type": "markdown",
   "metadata": {},
   "source": [
    "**Reference:** https://www.datacamp.com/tutorial/fine-tuning-deepseek-r1-reasoning-model"
   ]
  },
  {
   "cell_type": "code",
   "execution_count": 3,
   "metadata": {},
   "outputs": [],
   "source": [
    "prompt_style = \"\"\"Below is an instruction that describes a task, paired with an input that provides further context. \n",
    "Write a response that appropriately completes the request. \n",
    "Before answering, think carefully about the question and create a step-by-step chain of thoughts to ensure a logical and accurate response.\n",
    "\n",
    "### Instruction:\n",
    "You are an intelligent AI assistant with broad knowledge across many fields.\n",
    "Please provide a clear, detailed, and well-structured answer to the following question.\n",
    "\n",
    "### Question:\n",
    "{}\n",
    "\n",
    "### Response:\n",
    "<think>{}\"\"\""
   ]
  },
  {
   "cell_type": "code",
   "execution_count": 4,
   "metadata": {},
   "outputs": [],
   "source": [
    "question = \"Explain recursion with code\""
   ]
  },
  {
   "cell_type": "code",
   "execution_count": 5,
   "metadata": {},
   "outputs": [
    {
     "name": "stderr",
     "output_type": "stream",
     "text": [
      "Setting `pad_token_id` to `eos_token_id`:151643 for open-end generation.\n"
     ]
    }
   ],
   "source": [
    "inputs = tokenizer([prompt_style.format(question, \"\")], return_tensors=\"pt\").to(\"cuda\")\n",
    "\n",
    "outputs = model.generate(\n",
    "    input_ids=inputs.input_ids,\n",
    "    attention_mask=inputs.attention_mask,\n",
    "    max_new_tokens=2400,\n",
    "    use_cache=True,\n",
    ")\n",
    "response = tokenizer.batch_decode(outputs)"
   ]
  },
  {
   "cell_type": "code",
   "execution_count": 47,
   "metadata": {},
   "outputs": [
    {
     "data": {
      "text/html": [
       "<pre style=\"white-space:pre;overflow-x:auto;line-height:normal;font-family:Menlo,'DejaVu Sans Mono',consolas,'Courier New',monospace\">\n",
       "<span style=\"color: #c0c0c0; text-decoration-color: #c0c0c0; font-weight: bold\">&lt;think</span><span style=\"color: #c0c0c0; text-decoration-color: #c0c0c0\">&gt;</span>\n",
       "<span style=\"color: #c0c0c0; text-decoration-color: #c0c0c0\">Okay, so I need to explain recursion with code. Hmm, where do I start? I remember that recursion is when a function</span>\n",
       "<span style=\"color: #c0c0c0; text-decoration-color: #c0c0c0\">calls itself, right? But I'm not entirely sure how it works step by step. Let me think about an example. Oh, the </span>\n",
       "<span style=\"color: #c0c0c0; text-decoration-color: #c0c0c0\">factorial function! That's a classic example. Factorial of a number n is n multiplied by the factorial of n-</span><span style=\"color: #c0c0c0; text-decoration-color: #c0c0c0; font-weight: bold\">1</span><span style=\"color: #c0c0c0; text-decoration-color: #c0c0c0\">, and </span>\n",
       "<span style=\"color: #c0c0c0; text-decoration-color: #c0c0c0\">it stops when n is </span><span style=\"color: #c0c0c0; text-decoration-color: #c0c0c0; font-weight: bold\">0</span><span style=\"color: #c0c0c0; text-decoration-color: #c0c0c0\"> or </span><span style=\"color: #c0c0c0; text-decoration-color: #c0c0c0; font-weight: bold\">1</span><span style=\"color: #c0c0c0; text-decoration-color: #c0c0c0\">.</span>\n",
       "\n",
       "<span style=\"color: #c0c0c0; text-decoration-color: #c0c0c0\">Wait, so for </span><span style=\"color: #c0c0c0; text-decoration-color: #c0c0c0; font-weight: bold\">factorial(</span><span style=\"color: #c0c0c0; text-decoration-color: #c0c0c0; font-weight: bold\">5</span><span style=\"color: #c0c0c0; text-decoration-color: #c0c0c0; font-weight: bold\">)</span><span style=\"color: #c0c0c0; text-decoration-color: #c0c0c0\">, it would call </span><span style=\"color: #c0c0c0; text-decoration-color: #c0c0c0; font-weight: bold\">factorial(</span><span style=\"color: #c0c0c0; text-decoration-color: #c0c0c0; font-weight: bold\">4</span><span style=\"color: #c0c0c0; text-decoration-color: #c0c0c0; font-weight: bold\">)</span><span style=\"color: #c0c0c0; text-decoration-color: #c0c0c0\">, which calls </span><span style=\"color: #c0c0c0; text-decoration-color: #c0c0c0; font-weight: bold\">factorial(</span><span style=\"color: #c0c0c0; text-decoration-color: #c0c0c0; font-weight: bold\">3</span><span style=\"color: #c0c0c0; text-decoration-color: #c0c0c0; font-weight: bold\">)</span><span style=\"color: #c0c0c0; text-decoration-color: #c0c0c0\">, and so on until </span><span style=\"color: #c0c0c0; text-decoration-color: #c0c0c0; font-weight: bold\">factorial(</span><span style=\"color: #c0c0c0; text-decoration-color: #c0c0c0; font-weight: bold\">0</span><span style=\"color: #c0c0c0; text-decoration-color: #c0c0c0; font-weight: bold\">)</span><span style=\"color: #c0c0c0; text-decoration-color: #c0c0c0\">. Then</span>\n",
       "<span style=\"color: #c0c0c0; text-decoration-color: #c0c0c0\">it starts multiplying back. That makes sense. So the base case is when n is </span><span style=\"color: #c0c0c0; text-decoration-color: #c0c0c0; font-weight: bold\">0</span><span style=\"color: #c0c0c0; text-decoration-color: #c0c0c0\"> or </span><span style=\"color: #c0c0c0; text-decoration-color: #c0c0c0; font-weight: bold\">1</span><span style=\"color: #c0c0c0; text-decoration-color: #c0c0c0\">, return </span><span style=\"color: #c0c0c0; text-decoration-color: #c0c0c0; font-weight: bold\">1</span><span style=\"color: #c0c0c0; text-decoration-color: #c0c0c0\">. Otherwise, return n </span>\n",
       "<span style=\"color: #c0c0c0; text-decoration-color: #c0c0c0\">multiplied by </span><span style=\"color: #c0c0c0; text-decoration-color: #c0c0c0; font-weight: bold\">factorial(</span><span style=\"color: #c0c0c0; text-decoration-color: #c0c0c0\">n-</span><span style=\"color: #c0c0c0; text-decoration-color: #c0c0c0; font-weight: bold\">1</span><span style=\"color: #c0c0c0; text-decoration-color: #c0c0c0; font-weight: bold\">)</span><span style=\"color: #c0c0c0; text-decoration-color: #c0c0c0\">.</span>\n",
       "\n",
       "<span style=\"color: #c0c0c0; text-decoration-color: #c0c0c0\">Let me write that out. The function would check if n is less than or equal to </span><span style=\"color: #c0c0c0; text-decoration-color: #c0c0c0; font-weight: bold\">1</span><span style=\"color: #c0c0c0; text-decoration-color: #c0c0c0\">, return </span><span style=\"color: #c0c0c0; text-decoration-color: #c0c0c0; font-weight: bold\">1</span><span style=\"color: #c0c0c0; text-decoration-color: #c0c0c0\">. Else, return n * </span>\n",
       "<span style=\"color: #c0c0c0; text-decoration-color: #c0c0c0; font-weight: bold\">factorial(</span><span style=\"color: #c0c0c0; text-decoration-color: #c0c0c0\">n-</span><span style=\"color: #c0c0c0; text-decoration-color: #c0c0c0; font-weight: bold\">1</span><span style=\"color: #c0c0c0; text-decoration-color: #c0c0c0; font-weight: bold\">)</span><span style=\"color: #c0c0c0; text-decoration-color: #c0c0c0\">. That should work. But what about the call stack? Each recursive call adds to the stack, and when </span>\n",
       "<span style=\"color: #c0c0c0; text-decoration-color: #c0c0c0\">the base case is reached, it starts unwinding, calculating each step.</span>\n",
       "\n",
       "<span style=\"color: #c0c0c0; text-decoration-color: #c0c0c0\">Another example could be the Fibonacci sequence. Each number is the sum of the two preceding ones. So </span><span style=\"color: #c0c0c0; text-decoration-color: #c0c0c0; font-weight: bold\">fib(</span><span style=\"color: #c0c0c0; text-decoration-color: #c0c0c0\">n</span><span style=\"color: #c0c0c0; text-decoration-color: #c0c0c0; font-weight: bold\">)</span><span style=\"color: #c0c0c0; text-decoration-color: #c0c0c0\"> is </span>\n",
       "<span style=\"color: #c0c0c0; text-decoration-color: #c0c0c0; font-weight: bold\">fib(</span><span style=\"color: #c0c0c0; text-decoration-color: #c0c0c0\">n-</span><span style=\"color: #c0c0c0; text-decoration-color: #c0c0c0; font-weight: bold\">1</span><span style=\"color: #c0c0c0; text-decoration-color: #c0c0c0; font-weight: bold\">)</span><span style=\"color: #c0c0c0; text-decoration-color: #c0c0c0\"> + </span><span style=\"color: #c0c0c0; text-decoration-color: #c0c0c0; font-weight: bold\">fib(</span><span style=\"color: #c0c0c0; text-decoration-color: #c0c0c0\">n-</span><span style=\"color: #c0c0c0; text-decoration-color: #c0c0c0; font-weight: bold\">2</span><span style=\"color: #c0c0c0; text-decoration-color: #c0c0c0; font-weight: bold\">)</span><span style=\"color: #c0c0c0; text-decoration-color: #c0c0c0\">. The base cases are </span><span style=\"color: #c0c0c0; text-decoration-color: #c0c0c0; font-weight: bold\">fib(</span><span style=\"color: #c0c0c0; text-decoration-color: #c0c0c0; font-weight: bold\">0</span><span style=\"color: #c0c0c0; text-decoration-color: #c0c0c0; font-weight: bold\">)</span><span style=\"color: #c0c0c0; text-decoration-color: #c0c0c0\"> = </span><span style=\"color: #c0c0c0; text-decoration-color: #c0c0c0; font-weight: bold\">0</span><span style=\"color: #c0c0c0; text-decoration-color: #c0c0c0\"> and </span><span style=\"color: #c0c0c0; text-decoration-color: #c0c0c0; font-weight: bold\">fib(</span><span style=\"color: #c0c0c0; text-decoration-color: #c0c0c0; font-weight: bold\">1</span><span style=\"color: #c0c0c0; text-decoration-color: #c0c0c0; font-weight: bold\">)</span><span style=\"color: #c0c0c0; text-decoration-color: #c0c0c0\"> = </span><span style=\"color: #c0c0c0; text-decoration-color: #c0c0c0; font-weight: bold\">1</span><span style=\"color: #c0c0c0; text-decoration-color: #c0c0c0\">. But wait, this might not be the most efficient </span>\n",
       "<span style=\"color: #c0c0c0; text-decoration-color: #c0c0c0\">because it recalculates a lot of values. Maybe using memoization could help, but for simplicity, the basic </span>\n",
       "<span style=\"color: #c0c0c0; text-decoration-color: #c0c0c0\">recursive approach would work.</span>\n",
       "\n",
       "<span style=\"color: #c0c0c0; text-decoration-color: #c0c0c0\">Let me think about how the Fibonacci function would look. It would check if n is </span><span style=\"color: #c0c0c0; text-decoration-color: #c0c0c0; font-weight: bold\">0</span><span style=\"color: #c0c0c0; text-decoration-color: #c0c0c0\"> or </span><span style=\"color: #c0c0c0; text-decoration-color: #c0c0c0; font-weight: bold\">1</span><span style=\"color: #c0c0c0; text-decoration-color: #c0c0c0\">, return n. Else, return </span>\n",
       "<span style=\"color: #c0c0c0; text-decoration-color: #c0c0c0; font-weight: bold\">fib(</span><span style=\"color: #c0c0c0; text-decoration-color: #c0c0c0\">n-</span><span style=\"color: #c0c0c0; text-decoration-color: #c0c0c0; font-weight: bold\">1</span><span style=\"color: #c0c0c0; text-decoration-color: #c0c0c0; font-weight: bold\">)</span><span style=\"color: #c0c0c0; text-decoration-color: #c0c0c0\"> + </span><span style=\"color: #c0c0c0; text-decoration-color: #c0c0c0; font-weight: bold\">fib(</span><span style=\"color: #c0c0c0; text-decoration-color: #c0c0c0\">n-</span><span style=\"color: #c0c0c0; text-decoration-color: #c0c0c0; font-weight: bold\">2</span><span style=\"color: #c0c0c0; text-decoration-color: #c0c0c0; font-weight: bold\">)</span><span style=\"color: #c0c0c0; text-decoration-color: #c0c0c0\">. That should do it. But I should mention that while this works, it's not the most efficient way</span>\n",
       "<span style=\"color: #c0c0c0; text-decoration-color: #c0c0c0\">due to repeated calculations.</span>\n",
       "\n",
       "<span style=\"color: #c0c0c0; text-decoration-color: #c0c0c0\">Maybe I should also include a simple example like a countdown function. So a function that prints numbers from n </span>\n",
       "<span style=\"color: #c0c0c0; text-decoration-color: #c0c0c0\">down to </span><span style=\"color: #c0c0c0; text-decoration-color: #c0c0c0; font-weight: bold\">1</span><span style=\"color: #c0c0c0; text-decoration-color: #c0c0c0\">. It would print n and then call itself with n-</span><span style=\"color: #c0c0c0; text-decoration-color: #c0c0c0; font-weight: bold\">1</span><span style=\"color: #c0c0c0; text-decoration-color: #c0c0c0\"> until n is </span><span style=\"color: #c0c0c0; text-decoration-color: #c0c0c0; font-weight: bold\">0</span><span style=\"color: #c0c0c0; text-decoration-color: #c0c0c0\">. That's another straightforward example.</span>\n",
       "\n",
       "<span style=\"color: #c0c0c0; text-decoration-color: #c0c0c0\">Wait, but in the countdown example, how do I handle the stopping condition? If n is </span><span style=\"color: #c0c0c0; text-decoration-color: #c0c0c0; font-weight: bold\">0</span><span style=\"color: #c0c0c0; text-decoration-color: #c0c0c0\">, maybe I don't print </span>\n",
       "<span style=\"color: #c0c0c0; text-decoration-color: #c0c0c0\">anything. So the function would check if n &gt; </span><span style=\"color: #c0c0c0; text-decoration-color: #c0c0c0; font-weight: bold\">0</span><span style=\"color: #c0c0c0; text-decoration-color: #c0c0c0\">, print it, then call itself with n-</span><span style=\"color: #c0c0c0; text-decoration-color: #c0c0c0; font-weight: bold\">1</span><span style=\"color: #c0c0c0; text-decoration-color: #c0c0c0\">.</span>\n",
       "\n",
       "<span style=\"color: #c0c0c0; text-decoration-color: #c0c0c0\">I should also explain the concept of the base case and the recursive case. The base case stops the recursion, while</span>\n",
       "<span style=\"color: #c0c0c0; text-decoration-color: #c0c0c0\">the recursive case breaks the problem into smaller subproblems. It's important to have a base case to prevent </span>\n",
       "<span style=\"color: #c0c0c0; text-decoration-color: #c0c0c0\">infinite loops.</span>\n",
       "\n",
       "<span style=\"color: #c0c0c0; text-decoration-color: #c0c0c0\">Let me structure this. First, explain what recursion is. Then, provide the factorial example with code. Next, maybe</span>\n",
       "<span style=\"color: #c0c0c0; text-decoration-color: #c0c0c0\">the Fibonacci example. Then the countdown. Each time, explain how the function works, the base case, and how it </span>\n",
       "<span style=\"color: #c0c0c0; text-decoration-color: #c0c0c0\">unwinds.</span>\n",
       "\n",
       "<span style=\"color: #c0c0c0; text-decoration-color: #c0c0c0\">I should also mention the call stack a bit, to show how each recursive call is added and then processed in reverse </span>\n",
       "<span style=\"color: #c0c0c0; text-decoration-color: #c0c0c0\">order. That helps visualize how the function returns and calculates the result.</span>\n",
       "\n",
       "<span style=\"color: #c0c0c0; text-decoration-color: #c0c0c0\">Wait, but in the Fibonacci example, without memoization, the function recalculates the same values many times. Like</span>\n",
       "<span style=\"color: #c0c0c0; text-decoration-color: #c0c0c0; font-weight: bold\">fib(</span><span style=\"color: #c0c0c0; text-decoration-color: #c0c0c0; font-weight: bold\">2</span><span style=\"color: #c0c0c0; text-decoration-color: #c0c0c0; font-weight: bold\">)</span><span style=\"color: #c0c0c0; text-decoration-color: #c0c0c0\"> is called multiple times. That's a point to note, but maybe it's beyond the basic explanation. I'll stick to</span>\n",
       "<span style=\"color: #c0c0c0; text-decoration-color: #c0c0c0\">the basic approach for simplicity.</span>\n",
       "\n",
       "<span style=\"color: #c0c0c0; text-decoration-color: #c0c0c0\">Let me outline the response: start with a definition of recursion, then explain the factorial example with code, </span>\n",
       "<span style=\"color: #c0c0c0; text-decoration-color: #c0c0c0\">then Fibonacci, then countdown. For each, explain the code, the base case, and how it works.</span>\n",
       "\n",
       "<span style=\"color: #c0c0c0; text-decoration-color: #c0c0c0\">I think that's a solid plan. Now, I'll write out each example with code snippets and explanations.</span>\n",
       "<span style=\"color: #c0c0c0; text-decoration-color: #c0c0c0\">&lt;/think&gt;</span>\n",
       "\n",
       "<span style=\"color: #c0c0c0; text-decoration-color: #c0c0c0\">### Explanation of Recursion with Code</span>\n",
       "\n",
       "<span style=\"color: #c0c0c0; text-decoration-color: #c0c0c0\">Recursion is a programming technique where a function calls itself to solve a problem by breaking it down into </span>\n",
       "<span style=\"color: #c0c0c0; text-decoration-color: #c0c0c0\">smaller subproblems. Each recursive call processes a smaller part of the problem until it reaches a base case, </span>\n",
       "<span style=\"color: #c0c0c0; text-decoration-color: #c0c0c0\">which stops the recursion. Here are three examples demonstrating recursion:</span>\n",
       "\n",
       "<span style=\"color: #c0c0c0; text-decoration-color: #c0c0c0\">#### </span><span style=\"color: #c0c0c0; text-decoration-color: #c0c0c0; font-weight: bold\">1</span><span style=\"color: #c0c0c0; text-decoration-color: #c0c0c0\">. Factorial Calculation</span>\n",
       "\n",
       "<span style=\"color: #c0c0c0; text-decoration-color: #c0c0c0\">**Objective:** Compute the factorial of a number \\</span><span style=\"color: #c0c0c0; text-decoration-color: #c0c0c0; font-weight: bold\">(</span><span style=\"color: #c0c0c0; text-decoration-color: #c0c0c0\"> n \\</span><span style=\"color: #c0c0c0; text-decoration-color: #c0c0c0; font-weight: bold\">)</span><span style=\"color: #c0c0c0; text-decoration-color: #c0c0c0\"> </span><span style=\"color: #c0c0c0; text-decoration-color: #c0c0c0; font-weight: bold\">(</span><span style=\"color: #c0c0c0; text-decoration-color: #c0c0c0\">denoted as \\</span><span style=\"color: #c0c0c0; text-decoration-color: #c0c0c0; font-weight: bold\">(</span><span style=\"color: #c0c0c0; text-decoration-color: #c0c0c0\"> n! \\</span><span style=\"color: #c0c0c0; text-decoration-color: #c0c0c0; font-weight: bold\">))</span><span style=\"color: #c0c0c0; text-decoration-color: #c0c0c0\">, which is the product of all </span>\n",
       "<span style=\"color: #c0c0c0; text-decoration-color: #c0c0c0\">positive integers up to \\</span><span style=\"color: #c0c0c0; text-decoration-color: #c0c0c0; font-weight: bold\">(</span><span style=\"color: #c0c0c0; text-decoration-color: #c0c0c0\"> n \\</span><span style=\"color: #c0c0c0; text-decoration-color: #c0c0c0; font-weight: bold\">)</span><span style=\"color: #c0c0c0; text-decoration-color: #c0c0c0\">.</span>\n",
       "\n",
       "<span style=\"color: #c0c0c0; text-decoration-color: #c0c0c0\">**Recursive Approach:**</span>\n",
       "<span style=\"color: #c0c0c0; text-decoration-color: #c0c0c0\">- **Base Case:** If \\</span><span style=\"color: #c0c0c0; text-decoration-color: #c0c0c0; font-weight: bold\">(</span><span style=\"color: #c0c0c0; text-decoration-color: #c0c0c0\"> n \\</span><span style=\"color: #c0c0c0; text-decoration-color: #c0c0c0; font-weight: bold\">)</span><span style=\"color: #c0c0c0; text-decoration-color: #c0c0c0\"> is </span><span style=\"color: #c0c0c0; text-decoration-color: #c0c0c0; font-weight: bold\">0</span><span style=\"color: #c0c0c0; text-decoration-color: #c0c0c0\"> or </span><span style=\"color: #c0c0c0; text-decoration-color: #c0c0c0; font-weight: bold\">1</span><span style=\"color: #c0c0c0; text-decoration-color: #c0c0c0\">, return </span><span style=\"color: #c0c0c0; text-decoration-color: #c0c0c0; font-weight: bold\">1</span><span style=\"color: #c0c0c0; text-decoration-color: #c0c0c0\">.</span>\n",
       "<span style=\"color: #c0c0c0; text-decoration-color: #c0c0c0\">- **Recursive Case:** Return \\</span><span style=\"color: #c0c0c0; text-decoration-color: #c0c0c0; font-weight: bold\">(</span><span style=\"color: #c0c0c0; text-decoration-color: #c0c0c0\"> n \\times \\</span><span style=\"color: #c0c0c0; text-decoration-color: #c0c0c0; font-weight: bold\">)</span><span style=\"color: #c0c0c0; text-decoration-color: #c0c0c0\"> factorial of \\</span><span style=\"color: #c0c0c0; text-decoration-color: #c0c0c0; font-weight: bold\">(</span><span style=\"color: #c0c0c0; text-decoration-color: #c0c0c0\"> n-</span><span style=\"color: #c0c0c0; text-decoration-color: #c0c0c0; font-weight: bold\">1</span><span style=\"color: #c0c0c0; text-decoration-color: #c0c0c0\"> \\</span><span style=\"color: #c0c0c0; text-decoration-color: #c0c0c0; font-weight: bold\">)</span><span style=\"color: #c0c0c0; text-decoration-color: #c0c0c0\">.</span>\n",
       "\n",
       "<span style=\"color: #c0c0c0; text-decoration-color: #c0c0c0\">**Code Example:**</span>\n",
       "<span style=\"color: #c0c0c0; text-decoration-color: #c0c0c0\">```python</span>\n",
       "<span style=\"color: #c0c0c0; text-decoration-color: #c0c0c0\">def </span><span style=\"color: #c0c0c0; text-decoration-color: #c0c0c0; font-weight: bold\">factorial(</span><span style=\"color: #c0c0c0; text-decoration-color: #c0c0c0\">n</span><span style=\"color: #c0c0c0; text-decoration-color: #c0c0c0; font-weight: bold\">)</span><span style=\"color: #c0c0c0; text-decoration-color: #c0c0c0\">:</span>\n",
       "<span style=\"color: #c0c0c0; text-decoration-color: #c0c0c0\">    if n &lt;= </span><span style=\"color: #c0c0c0; text-decoration-color: #c0c0c0; font-weight: bold\">1</span><span style=\"color: #c0c0c0; text-decoration-color: #c0c0c0\">:</span>\n",
       "<span style=\"color: #c0c0c0; text-decoration-color: #c0c0c0\">        return </span><span style=\"color: #c0c0c0; text-decoration-color: #c0c0c0; font-weight: bold\">1</span>\n",
       "<span style=\"color: #c0c0c0; text-decoration-color: #c0c0c0\">    else:</span>\n",
       "<span style=\"color: #c0c0c0; text-decoration-color: #c0c0c0\">        return n * </span><span style=\"color: #c0c0c0; text-decoration-color: #c0c0c0; font-weight: bold\">factorial(</span><span style=\"color: #c0c0c0; text-decoration-color: #c0c0c0\">n - </span><span style=\"color: #c0c0c0; text-decoration-color: #c0c0c0; font-weight: bold\">1</span><span style=\"color: #c0c0c0; text-decoration-color: #c0c0c0; font-weight: bold\">)</span>\n",
       "<span style=\"color: #c0c0c0; text-decoration-color: #c0c0c0\">```</span>\n",
       "\n",
       "<span style=\"color: #c0c0c0; text-decoration-color: #c0c0c0\">**Explanation:**</span>\n",
       "<span style=\"color: #c0c0c0; text-decoration-color: #c0c0c0\">- For `</span><span style=\"color: #c0c0c0; text-decoration-color: #c0c0c0; font-weight: bold\">factorial(</span><span style=\"color: #c0c0c0; text-decoration-color: #c0c0c0; font-weight: bold\">5</span><span style=\"color: #c0c0c0; text-decoration-color: #c0c0c0; font-weight: bold\">)</span><span style=\"color: #c0c0c0; text-decoration-color: #c0c0c0\">`, the function calls `</span><span style=\"color: #c0c0c0; text-decoration-color: #c0c0c0; font-weight: bold\">factorial(</span><span style=\"color: #c0c0c0; text-decoration-color: #c0c0c0; font-weight: bold\">4</span><span style=\"color: #c0c0c0; text-decoration-color: #c0c0c0; font-weight: bold\">)</span><span style=\"color: #c0c0c0; text-decoration-color: #c0c0c0\">`, which calls `</span><span style=\"color: #c0c0c0; text-decoration-color: #c0c0c0; font-weight: bold\">factorial(</span><span style=\"color: #c0c0c0; text-decoration-color: #c0c0c0; font-weight: bold\">3</span><span style=\"color: #c0c0c0; text-decoration-color: #c0c0c0; font-weight: bold\">)</span><span style=\"color: #c0c0c0; text-decoration-color: #c0c0c0\">`, and so on until </span>\n",
       "<span style=\"color: #c0c0c0; text-decoration-color: #c0c0c0\">`</span><span style=\"color: #c0c0c0; text-decoration-color: #c0c0c0; font-weight: bold\">factorial(</span><span style=\"color: #c0c0c0; text-decoration-color: #c0c0c0; font-weight: bold\">0</span><span style=\"color: #c0c0c0; text-decoration-color: #c0c0c0; font-weight: bold\">)</span><span style=\"color: #c0c0c0; text-decoration-color: #c0c0c0\">`.</span>\n",
       "<span style=\"color: #c0c0c0; text-decoration-color: #c0c0c0\">- The base case returns </span><span style=\"color: #c0c0c0; text-decoration-color: #c0c0c0; font-weight: bold\">1</span><span style=\"color: #c0c0c0; text-decoration-color: #c0c0c0\">, and the function unwinds, multiplying each return value to compute \\</span><span style=\"color: #c0c0c0; text-decoration-color: #c0c0c0; font-weight: bold\">(</span><span style=\"color: #c0c0c0; text-decoration-color: #c0c0c0\"> </span><span style=\"color: #c0c0c0; text-decoration-color: #c0c0c0; font-weight: bold\">5</span><span style=\"color: #c0c0c0; text-decoration-color: #c0c0c0\">! = </span><span style=\"color: #c0c0c0; text-decoration-color: #c0c0c0; font-weight: bold\">120</span><span style=\"color: #c0c0c0; text-decoration-color: #c0c0c0\"> \\</span><span style=\"color: #c0c0c0; text-decoration-color: #c0c0c0; font-weight: bold\">)</span><span style=\"color: #c0c0c0; text-decoration-color: #c0c0c0\">.</span>\n",
       "\n",
       "<span style=\"color: #c0c0c0; text-decoration-color: #c0c0c0\">#### </span><span style=\"color: #c0c0c0; text-decoration-color: #c0c0c0; font-weight: bold\">2</span><span style=\"color: #c0c0c0; text-decoration-color: #c0c0c0\">. Fibonacci Sequence</span>\n",
       "\n",
       "<span style=\"color: #c0c0c0; text-decoration-color: #c0c0c0\">**Objective:** Generate the Fibonacci sequence where each number is the sum of the two preceding ones.</span>\n",
       "\n",
       "<span style=\"color: #c0c0c0; text-decoration-color: #c0c0c0\">**Recursive Approach:**</span>\n",
       "<span style=\"color: #c0c0c0; text-decoration-color: #c0c0c0\">- **Base Cases:** If \\</span><span style=\"color: #c0c0c0; text-decoration-color: #c0c0c0; font-weight: bold\">(</span><span style=\"color: #c0c0c0; text-decoration-color: #c0c0c0\"> n \\</span><span style=\"color: #c0c0c0; text-decoration-color: #c0c0c0; font-weight: bold\">)</span><span style=\"color: #c0c0c0; text-decoration-color: #c0c0c0\"> is </span><span style=\"color: #c0c0c0; text-decoration-color: #c0c0c0; font-weight: bold\">0</span><span style=\"color: #c0c0c0; text-decoration-color: #c0c0c0\">, return </span><span style=\"color: #c0c0c0; text-decoration-color: #c0c0c0; font-weight: bold\">0</span><span style=\"color: #c0c0c0; text-decoration-color: #c0c0c0\">; if \\</span><span style=\"color: #c0c0c0; text-decoration-color: #c0c0c0; font-weight: bold\">(</span><span style=\"color: #c0c0c0; text-decoration-color: #c0c0c0\"> n \\</span><span style=\"color: #c0c0c0; text-decoration-color: #c0c0c0; font-weight: bold\">)</span><span style=\"color: #c0c0c0; text-decoration-color: #c0c0c0\"> is </span><span style=\"color: #c0c0c0; text-decoration-color: #c0c0c0; font-weight: bold\">1</span><span style=\"color: #c0c0c0; text-decoration-color: #c0c0c0\">, return </span><span style=\"color: #c0c0c0; text-decoration-color: #c0c0c0; font-weight: bold\">1</span><span style=\"color: #c0c0c0; text-decoration-color: #c0c0c0\">.</span>\n",
       "<span style=\"color: #c0c0c0; text-decoration-color: #c0c0c0\">- **Recursive Case:** Return the sum of the two preceding Fibonacci numbers.</span>\n",
       "\n",
       "<span style=\"color: #c0c0c0; text-decoration-color: #c0c0c0\">**Code Example:**</span>\n",
       "<span style=\"color: #c0c0c0; text-decoration-color: #c0c0c0\">```python</span>\n",
       "<span style=\"color: #c0c0c0; text-decoration-color: #c0c0c0\">def </span><span style=\"color: #c0c0c0; text-decoration-color: #c0c0c0; font-weight: bold\">fibonacci(</span><span style=\"color: #c0c0c0; text-decoration-color: #c0c0c0\">n</span><span style=\"color: #c0c0c0; text-decoration-color: #c0c0c0; font-weight: bold\">)</span><span style=\"color: #c0c0c0; text-decoration-color: #c0c0c0\">:</span>\n",
       "<span style=\"color: #c0c0c0; text-decoration-color: #c0c0c0\">    if n == </span><span style=\"color: #c0c0c0; text-decoration-color: #c0c0c0; font-weight: bold\">0</span><span style=\"color: #c0c0c0; text-decoration-color: #c0c0c0\">:</span>\n",
       "<span style=\"color: #c0c0c0; text-decoration-color: #c0c0c0\">        return </span><span style=\"color: #c0c0c0; text-decoration-color: #c0c0c0; font-weight: bold\">0</span>\n",
       "<span style=\"color: #c0c0c0; text-decoration-color: #c0c0c0\">    elif n == </span><span style=\"color: #c0c0c0; text-decoration-color: #c0c0c0; font-weight: bold\">1</span><span style=\"color: #c0c0c0; text-decoration-color: #c0c0c0\">:</span>\n",
       "<span style=\"color: #c0c0c0; text-decoration-color: #c0c0c0\">        return </span><span style=\"color: #c0c0c0; text-decoration-color: #c0c0c0; font-weight: bold\">1</span>\n",
       "<span style=\"color: #c0c0c0; text-decoration-color: #c0c0c0\">    else:</span>\n",
       "<span style=\"color: #c0c0c0; text-decoration-color: #c0c0c0\">        return </span><span style=\"color: #c0c0c0; text-decoration-color: #c0c0c0; font-weight: bold\">fibonacci(</span><span style=\"color: #c0c0c0; text-decoration-color: #c0c0c0\">n - </span><span style=\"color: #c0c0c0; text-decoration-color: #c0c0c0; font-weight: bold\">1</span><span style=\"color: #c0c0c0; text-decoration-color: #c0c0c0; font-weight: bold\">)</span><span style=\"color: #c0c0c0; text-decoration-color: #c0c0c0\"> + </span><span style=\"color: #c0c0c0; text-decoration-color: #c0c0c0; font-weight: bold\">fibonacci(</span><span style=\"color: #c0c0c0; text-decoration-color: #c0c0c0\">n - </span><span style=\"color: #c0c0c0; text-decoration-color: #c0c0c0; font-weight: bold\">2</span><span style=\"color: #c0c0c0; text-decoration-color: #c0c0c0; font-weight: bold\">)</span>\n",
       "<span style=\"color: #c0c0c0; text-decoration-color: #c0c0c0\">```</span>\n",
       "\n",
       "<span style=\"color: #c0c0c0; text-decoration-color: #c0c0c0\">**Explanation:**</span>\n",
       "<span style=\"color: #c0c0c0; text-decoration-color: #c0c0c0\">- For `</span><span style=\"color: #c0c0c0; text-decoration-color: #c0c0c0; font-weight: bold\">fibonacci(</span><span style=\"color: #c0c0c0; text-decoration-color: #c0c0c0; font-weight: bold\">5</span><span style=\"color: #c0c0c0; text-decoration-color: #c0c0c0; font-weight: bold\">)</span><span style=\"color: #c0c0c0; text-decoration-color: #c0c0c0\">`, the function computes `</span><span style=\"color: #c0c0c0; text-decoration-color: #c0c0c0; font-weight: bold\">fibonacci(</span><span style=\"color: #c0c0c0; text-decoration-color: #c0c0c0; font-weight: bold\">4</span><span style=\"color: #c0c0c0; text-decoration-color: #c0c0c0; font-weight: bold\">)</span><span style=\"color: #c0c0c0; text-decoration-color: #c0c0c0\"> + </span><span style=\"color: #c0c0c0; text-decoration-color: #c0c0c0; font-weight: bold\">fibonacci(</span><span style=\"color: #c0c0c0; text-decoration-color: #c0c0c0; font-weight: bold\">3</span><span style=\"color: #c0c0c0; text-decoration-color: #c0c0c0; font-weight: bold\">)</span><span style=\"color: #c0c0c0; text-decoration-color: #c0c0c0\">`.</span>\n",
       "<span style=\"color: #c0c0c0; text-decoration-color: #c0c0c0\">- Each subsequent call breaks down the problem further until reaching the base cases. However, this approach is </span>\n",
       "<span style=\"color: #c0c0c0; text-decoration-color: #c0c0c0\">inefficient due to repeated calculations, highlighting the need for optimization techniques like memoization.</span>\n",
       "\n",
       "<span style=\"color: #c0c0c0; text-decoration-color: #c0c0c0\">#### </span><span style=\"color: #c0c0c0; text-decoration-color: #c0c0c0; font-weight: bold\">3</span><span style=\"color: #c0c0c0; text-decoration-color: #c0c0c0\">. Countdown Function</span>\n",
       "\n",
       "<span style=\"color: #c0c0c0; text-decoration-color: #c0c0c0\">**Objective:** Print numbers from \\</span><span style=\"color: #c0c0c0; text-decoration-color: #c0c0c0; font-weight: bold\">(</span><span style=\"color: #c0c0c0; text-decoration-color: #c0c0c0\"> n \\</span><span style=\"color: #c0c0c0; text-decoration-color: #c0c0c0; font-weight: bold\">)</span><span style=\"color: #c0c0c0; text-decoration-color: #c0c0c0\"> down to </span><span style=\"color: #c0c0c0; text-decoration-color: #c0c0c0; font-weight: bold\">1</span><span style=\"color: #c0c0c0; text-decoration-color: #c0c0c0\">.</span>\n",
       "\n",
       "<span style=\"color: #c0c0c0; text-decoration-color: #c0c0c0\">**Recursive Approach:**</span>\n",
       "<span style=\"color: #c0c0c0; text-decoration-color: #c0c0c0\">- **Base Case:** If \\</span><span style=\"color: #c0c0c0; text-decoration-color: #c0c0c0; font-weight: bold\">(</span><span style=\"color: #c0c0c0; text-decoration-color: #c0c0c0\"> n \\</span><span style=\"color: #c0c0c0; text-decoration-color: #c0c0c0; font-weight: bold\">)</span><span style=\"color: #c0c0c0; text-decoration-color: #c0c0c0\"> is </span><span style=\"color: #c0c0c0; text-decoration-color: #c0c0c0; font-weight: bold\">0</span><span style=\"color: #c0c0c0; text-decoration-color: #c0c0c0\">, do nothing.</span>\n",
       "<span style=\"color: #c0c0c0; text-decoration-color: #c0c0c0\">- **Recursive Case:** Print \\</span><span style=\"color: #c0c0c0; text-decoration-color: #c0c0c0; font-weight: bold\">(</span><span style=\"color: #c0c0c0; text-decoration-color: #c0c0c0\"> n \\</span><span style=\"color: #c0c0c0; text-decoration-color: #c0c0c0; font-weight: bold\">)</span><span style=\"color: #c0c0c0; text-decoration-color: #c0c0c0\"> and call the function with \\</span><span style=\"color: #c0c0c0; text-decoration-color: #c0c0c0; font-weight: bold\">(</span><span style=\"color: #c0c0c0; text-decoration-color: #c0c0c0\"> n-</span><span style=\"color: #c0c0c0; text-decoration-color: #c0c0c0; font-weight: bold\">1</span><span style=\"color: #c0c0c0; text-decoration-color: #c0c0c0\"> \\</span><span style=\"color: #c0c0c0; text-decoration-color: #c0c0c0; font-weight: bold\">)</span><span style=\"color: #c0c0c0; text-decoration-color: #c0c0c0\">.</span>\n",
       "\n",
       "<span style=\"color: #c0c0c0; text-decoration-color: #c0c0c0\">**Code Example:**</span>\n",
       "<span style=\"color: #c0c0c0; text-decoration-color: #c0c0c0\">```python</span>\n",
       "<span style=\"color: #c0c0c0; text-decoration-color: #c0c0c0\">def </span><span style=\"color: #c0c0c0; text-decoration-color: #c0c0c0; font-weight: bold\">countdown(</span><span style=\"color: #c0c0c0; text-decoration-color: #c0c0c0\">n</span><span style=\"color: #c0c0c0; text-decoration-color: #c0c0c0; font-weight: bold\">)</span><span style=\"color: #c0c0c0; text-decoration-color: #c0c0c0\">:</span>\n",
       "<span style=\"color: #c0c0c0; text-decoration-color: #c0c0c0\">    if n &gt; </span><span style=\"color: #c0c0c0; text-decoration-color: #c0c0c0; font-weight: bold\">0</span><span style=\"color: #c0c0c0; text-decoration-color: #c0c0c0\">:</span>\n",
       "<span style=\"color: #c0c0c0; text-decoration-color: #c0c0c0\">        </span><span style=\"color: #c0c0c0; text-decoration-color: #c0c0c0; font-weight: bold\">print(</span><span style=\"color: #c0c0c0; text-decoration-color: #c0c0c0\">n</span><span style=\"color: #c0c0c0; text-decoration-color: #c0c0c0; font-weight: bold\">)</span>\n",
       "<span style=\"color: #c0c0c0; text-decoration-color: #c0c0c0\">        </span><span style=\"color: #c0c0c0; text-decoration-color: #c0c0c0; font-weight: bold\">countdown(</span><span style=\"color: #c0c0c0; text-decoration-color: #c0c0c0\">n - </span><span style=\"color: #c0c0c0; text-decoration-color: #c0c0c0; font-weight: bold\">1</span><span style=\"color: #c0c0c0; text-decoration-color: #c0c0c0; font-weight: bold\">)</span>\n",
       "<span style=\"color: #c0c0c0; text-decoration-color: #c0c0c0\">```</span>\n",
       "\n",
       "<span style=\"color: #c0c0c0; text-decoration-color: #c0c0c0\">**Explanation:**</span>\n",
       "<span style=\"color: #c0c0c0; text-decoration-color: #c0c0c0\">- For `</span><span style=\"color: #c0c0c0; text-decoration-color: #c0c0c0; font-weight: bold\">countdown(</span><span style=\"color: #c0c0c0; text-decoration-color: #c0c0c0; font-weight: bold\">5</span><span style=\"color: #c0c0c0; text-decoration-color: #c0c0c0; font-weight: bold\">)</span><span style=\"color: #c0c0c0; text-decoration-color: #c0c0c0\">`, the function prints </span><span style=\"color: #c0c0c0; text-decoration-color: #c0c0c0; font-weight: bold\">5</span><span style=\"color: #c0c0c0; text-decoration-color: #c0c0c0\">, then calls `</span><span style=\"color: #c0c0c0; text-decoration-color: #c0c0c0; font-weight: bold\">countdown(</span><span style=\"color: #c0c0c0; text-decoration-color: #c0c0c0; font-weight: bold\">4</span><span style=\"color: #c0c0c0; text-decoration-color: #c0c0c0; font-weight: bold\">)</span><span style=\"color: #c0c0c0; text-decoration-color: #c0c0c0\">`, and continues until `</span><span style=\"color: #c0c0c0; text-decoration-color: #c0c0c0; font-weight: bold\">countdown(</span><span style=\"color: #c0c0c0; text-decoration-color: #c0c0c0; font-weight: bold\">0</span><span style=\"color: #c0c0c0; text-decoration-color: #c0c0c0; font-weight: bold\">)</span><span style=\"color: #c0c0c0; text-decoration-color: #c0c0c0\">`, which </span>\n",
       "<span style=\"color: #c0c0c0; text-decoration-color: #c0c0c0\">stops the recursion.</span>\n",
       "\n",
       "<span style=\"color: #c0c0c0; text-decoration-color: #c0c0c0\">### Summary</span>\n",
       "\n",
       "<span style=\"color: #c0c0c0; text-decoration-color: #c0c0c0\">Recursion involves a function calling itself with a smaller problem size until a base case is reached. Each example</span>\n",
       "<span style=\"color: #c0c0c0; text-decoration-color: #c0c0c0\">demonstrates how recursion breaks down a problem, processes it, and combines results. Understanding recursion is </span>\n",
       "<span style=\"color: #c0c0c0; text-decoration-color: #c0c0c0\">crucial for solving problems that can be divided into similar subproblems efficiently.&lt;｜end▁of▁sentence｜</span><span style=\"color: #c0c0c0; text-decoration-color: #c0c0c0; font-weight: bold\">&gt;</span>\n",
       "</pre>\n"
      ],
      "text/plain": [
       "\n",
       "\u001b[1;37m<\u001b[0m\u001b[1;37mthink\u001b[0m\u001b[37m>\u001b[0m\n",
       "\u001b[37mOkay, so I need to explain recursion with code. Hmm, where do I start? I remember that recursion is when a function\u001b[0m\n",
       "\u001b[37mcalls itself, right? But I'm not entirely sure how it works step by step. Let me think about an example. Oh, the \u001b[0m\n",
       "\u001b[37mfactorial function! That's a classic example. Factorial of a number n is n multiplied by the factorial of n-\u001b[0m\u001b[1;37m1\u001b[0m\u001b[37m, and \u001b[0m\n",
       "\u001b[37mit stops when n is \u001b[0m\u001b[1;37m0\u001b[0m\u001b[37m or \u001b[0m\u001b[1;37m1\u001b[0m\u001b[37m.\u001b[0m\n",
       "\n",
       "\u001b[37mWait, so for \u001b[0m\u001b[1;37mfactorial\u001b[0m\u001b[1;37m(\u001b[0m\u001b[1;37m5\u001b[0m\u001b[1;37m)\u001b[0m\u001b[37m, it would call \u001b[0m\u001b[1;37mfactorial\u001b[0m\u001b[1;37m(\u001b[0m\u001b[1;37m4\u001b[0m\u001b[1;37m)\u001b[0m\u001b[37m, which calls \u001b[0m\u001b[1;37mfactorial\u001b[0m\u001b[1;37m(\u001b[0m\u001b[1;37m3\u001b[0m\u001b[1;37m)\u001b[0m\u001b[37m, and so on until \u001b[0m\u001b[1;37mfactorial\u001b[0m\u001b[1;37m(\u001b[0m\u001b[1;37m0\u001b[0m\u001b[1;37m)\u001b[0m\u001b[37m. Then\u001b[0m\n",
       "\u001b[37mit starts multiplying back. That makes sense. So the base case is when n is \u001b[0m\u001b[1;37m0\u001b[0m\u001b[37m or \u001b[0m\u001b[1;37m1\u001b[0m\u001b[37m, return \u001b[0m\u001b[1;37m1\u001b[0m\u001b[37m. Otherwise, return n \u001b[0m\n",
       "\u001b[37mmultiplied by \u001b[0m\u001b[1;37mfactorial\u001b[0m\u001b[1;37m(\u001b[0m\u001b[37mn-\u001b[0m\u001b[1;37m1\u001b[0m\u001b[1;37m)\u001b[0m\u001b[37m.\u001b[0m\n",
       "\n",
       "\u001b[37mLet me write that out. The function would check if n is less than or equal to \u001b[0m\u001b[1;37m1\u001b[0m\u001b[37m, return \u001b[0m\u001b[1;37m1\u001b[0m\u001b[37m. Else, return n * \u001b[0m\n",
       "\u001b[1;37mfactorial\u001b[0m\u001b[1;37m(\u001b[0m\u001b[37mn-\u001b[0m\u001b[1;37m1\u001b[0m\u001b[1;37m)\u001b[0m\u001b[37m. That should work. But what about the call stack? Each recursive call adds to the stack, and when \u001b[0m\n",
       "\u001b[37mthe base case is reached, it starts unwinding, calculating each step.\u001b[0m\n",
       "\n",
       "\u001b[37mAnother example could be the Fibonacci sequence. Each number is the sum of the two preceding ones. So \u001b[0m\u001b[1;37mfib\u001b[0m\u001b[1;37m(\u001b[0m\u001b[37mn\u001b[0m\u001b[1;37m)\u001b[0m\u001b[37m is \u001b[0m\n",
       "\u001b[1;37mfib\u001b[0m\u001b[1;37m(\u001b[0m\u001b[37mn-\u001b[0m\u001b[1;37m1\u001b[0m\u001b[1;37m)\u001b[0m\u001b[37m + \u001b[0m\u001b[1;37mfib\u001b[0m\u001b[1;37m(\u001b[0m\u001b[37mn-\u001b[0m\u001b[1;37m2\u001b[0m\u001b[1;37m)\u001b[0m\u001b[37m. The base cases are \u001b[0m\u001b[1;37mfib\u001b[0m\u001b[1;37m(\u001b[0m\u001b[1;37m0\u001b[0m\u001b[1;37m)\u001b[0m\u001b[37m = \u001b[0m\u001b[1;37m0\u001b[0m\u001b[37m and \u001b[0m\u001b[1;37mfib\u001b[0m\u001b[1;37m(\u001b[0m\u001b[1;37m1\u001b[0m\u001b[1;37m)\u001b[0m\u001b[37m = \u001b[0m\u001b[1;37m1\u001b[0m\u001b[37m. But wait, this might not be the most efficient \u001b[0m\n",
       "\u001b[37mbecause it recalculates a lot of values. Maybe using memoization could help, but for simplicity, the basic \u001b[0m\n",
       "\u001b[37mrecursive approach would work.\u001b[0m\n",
       "\n",
       "\u001b[37mLet me think about how the Fibonacci function would look. It would check if n is \u001b[0m\u001b[1;37m0\u001b[0m\u001b[37m or \u001b[0m\u001b[1;37m1\u001b[0m\u001b[37m, return n. Else, return \u001b[0m\n",
       "\u001b[1;37mfib\u001b[0m\u001b[1;37m(\u001b[0m\u001b[37mn-\u001b[0m\u001b[1;37m1\u001b[0m\u001b[1;37m)\u001b[0m\u001b[37m + \u001b[0m\u001b[1;37mfib\u001b[0m\u001b[1;37m(\u001b[0m\u001b[37mn-\u001b[0m\u001b[1;37m2\u001b[0m\u001b[1;37m)\u001b[0m\u001b[37m. That should do it. But I should mention that while this works, it's not the most efficient way\u001b[0m\n",
       "\u001b[37mdue to repeated calculations.\u001b[0m\n",
       "\n",
       "\u001b[37mMaybe I should also include a simple example like a countdown function. So a function that prints numbers from n \u001b[0m\n",
       "\u001b[37mdown to \u001b[0m\u001b[1;37m1\u001b[0m\u001b[37m. It would print n and then call itself with n-\u001b[0m\u001b[1;37m1\u001b[0m\u001b[37m until n is \u001b[0m\u001b[1;37m0\u001b[0m\u001b[37m. That's another straightforward example.\u001b[0m\n",
       "\n",
       "\u001b[37mWait, but in the countdown example, how do I handle the stopping condition? If n is \u001b[0m\u001b[1;37m0\u001b[0m\u001b[37m, maybe I don't print \u001b[0m\n",
       "\u001b[37manything. So the function would check if n > \u001b[0m\u001b[1;37m0\u001b[0m\u001b[37m, print it, then call itself with n-\u001b[0m\u001b[1;37m1\u001b[0m\u001b[37m.\u001b[0m\n",
       "\n",
       "\u001b[37mI should also explain the concept of the base case and the recursive case. The base case stops the recursion, while\u001b[0m\n",
       "\u001b[37mthe recursive case breaks the problem into smaller subproblems. It's important to have a base case to prevent \u001b[0m\n",
       "\u001b[37minfinite loops.\u001b[0m\n",
       "\n",
       "\u001b[37mLet me structure this. First, explain what recursion is. Then, provide the factorial example with code. Next, maybe\u001b[0m\n",
       "\u001b[37mthe Fibonacci example. Then the countdown. Each time, explain how the function works, the base case, and how it \u001b[0m\n",
       "\u001b[37munwinds.\u001b[0m\n",
       "\n",
       "\u001b[37mI should also mention the call stack a bit, to show how each recursive call is added and then processed in reverse \u001b[0m\n",
       "\u001b[37morder. That helps visualize how the function returns and calculates the result.\u001b[0m\n",
       "\n",
       "\u001b[37mWait, but in the Fibonacci example, without memoization, the function recalculates the same values many times. Like\u001b[0m\n",
       "\u001b[1;37mfib\u001b[0m\u001b[1;37m(\u001b[0m\u001b[1;37m2\u001b[0m\u001b[1;37m)\u001b[0m\u001b[37m is called multiple times. That's a point to note, but maybe it's beyond the basic explanation. I'll stick to\u001b[0m\n",
       "\u001b[37mthe basic approach for simplicity.\u001b[0m\n",
       "\n",
       "\u001b[37mLet me outline the response: start with a definition of recursion, then explain the factorial example with code, \u001b[0m\n",
       "\u001b[37mthen Fibonacci, then countdown. For each, explain the code, the base case, and how it works.\u001b[0m\n",
       "\n",
       "\u001b[37mI think that's a solid plan. Now, I'll write out each example with code snippets and explanations.\u001b[0m\n",
       "\u001b[37m<\u001b[0m\u001b[37m/\u001b[0m\u001b[37mthink\u001b[0m\u001b[37m>\u001b[0m\n",
       "\n",
       "\u001b[37m### Explanation of Recursion with Code\u001b[0m\n",
       "\n",
       "\u001b[37mRecursion is a programming technique where a function calls itself to solve a problem by breaking it down into \u001b[0m\n",
       "\u001b[37msmaller subproblems. Each recursive call processes a smaller part of the problem until it reaches a base case, \u001b[0m\n",
       "\u001b[37mwhich stops the recursion. Here are three examples demonstrating recursion:\u001b[0m\n",
       "\n",
       "\u001b[37m#### \u001b[0m\u001b[1;37m1\u001b[0m\u001b[37m. Factorial Calculation\u001b[0m\n",
       "\n",
       "\u001b[37m**Objective:** Compute the factorial of a number \\\u001b[0m\u001b[1;37m(\u001b[0m\u001b[37m n \\\u001b[0m\u001b[1;37m)\u001b[0m\u001b[37m \u001b[0m\u001b[1;37m(\u001b[0m\u001b[37mdenoted as \\\u001b[0m\u001b[1;37m(\u001b[0m\u001b[37m n! \\\u001b[0m\u001b[1;37m)\u001b[0m\u001b[1;37m)\u001b[0m\u001b[37m, which is the product of all \u001b[0m\n",
       "\u001b[37mpositive integers up to \\\u001b[0m\u001b[1;37m(\u001b[0m\u001b[37m n \\\u001b[0m\u001b[1;37m)\u001b[0m\u001b[37m.\u001b[0m\n",
       "\n",
       "\u001b[37m**Recursive Approach:**\u001b[0m\n",
       "\u001b[37m- **Base Case:** If \\\u001b[0m\u001b[1;37m(\u001b[0m\u001b[37m n \\\u001b[0m\u001b[1;37m)\u001b[0m\u001b[37m is \u001b[0m\u001b[1;37m0\u001b[0m\u001b[37m or \u001b[0m\u001b[1;37m1\u001b[0m\u001b[37m, return \u001b[0m\u001b[1;37m1\u001b[0m\u001b[37m.\u001b[0m\n",
       "\u001b[37m- **Recursive Case:** Return \\\u001b[0m\u001b[1;37m(\u001b[0m\u001b[37m n \\times \\\u001b[0m\u001b[1;37m)\u001b[0m\u001b[37m factorial of \\\u001b[0m\u001b[1;37m(\u001b[0m\u001b[37m n-\u001b[0m\u001b[1;37m1\u001b[0m\u001b[37m \\\u001b[0m\u001b[1;37m)\u001b[0m\u001b[37m.\u001b[0m\n",
       "\n",
       "\u001b[37m**Code Example:**\u001b[0m\n",
       "\u001b[37m```python\u001b[0m\n",
       "\u001b[37mdef \u001b[0m\u001b[1;37mfactorial\u001b[0m\u001b[1;37m(\u001b[0m\u001b[37mn\u001b[0m\u001b[1;37m)\u001b[0m\u001b[37m:\u001b[0m\n",
       "\u001b[37m    if n <= \u001b[0m\u001b[1;37m1\u001b[0m\u001b[37m:\u001b[0m\n",
       "\u001b[37m        return \u001b[0m\u001b[1;37m1\u001b[0m\n",
       "\u001b[37m    else:\u001b[0m\n",
       "\u001b[37m        return n * \u001b[0m\u001b[1;37mfactorial\u001b[0m\u001b[1;37m(\u001b[0m\u001b[37mn - \u001b[0m\u001b[1;37m1\u001b[0m\u001b[1;37m)\u001b[0m\n",
       "\u001b[37m```\u001b[0m\n",
       "\n",
       "\u001b[37m**Explanation:**\u001b[0m\n",
       "\u001b[37m- For `\u001b[0m\u001b[1;37mfactorial\u001b[0m\u001b[1;37m(\u001b[0m\u001b[1;37m5\u001b[0m\u001b[1;37m)\u001b[0m\u001b[37m`, the function calls `\u001b[0m\u001b[1;37mfactorial\u001b[0m\u001b[1;37m(\u001b[0m\u001b[1;37m4\u001b[0m\u001b[1;37m)\u001b[0m\u001b[37m`, which calls `\u001b[0m\u001b[1;37mfactorial\u001b[0m\u001b[1;37m(\u001b[0m\u001b[1;37m3\u001b[0m\u001b[1;37m)\u001b[0m\u001b[37m`, and so on until \u001b[0m\n",
       "\u001b[37m`\u001b[0m\u001b[1;37mfactorial\u001b[0m\u001b[1;37m(\u001b[0m\u001b[1;37m0\u001b[0m\u001b[1;37m)\u001b[0m\u001b[37m`.\u001b[0m\n",
       "\u001b[37m- The base case returns \u001b[0m\u001b[1;37m1\u001b[0m\u001b[37m, and the function unwinds, multiplying each return value to compute \\\u001b[0m\u001b[1;37m(\u001b[0m\u001b[37m \u001b[0m\u001b[1;37m5\u001b[0m\u001b[37m! = \u001b[0m\u001b[1;37m120\u001b[0m\u001b[37m \\\u001b[0m\u001b[1;37m)\u001b[0m\u001b[37m.\u001b[0m\n",
       "\n",
       "\u001b[37m#### \u001b[0m\u001b[1;37m2\u001b[0m\u001b[37m. Fibonacci Sequence\u001b[0m\n",
       "\n",
       "\u001b[37m**Objective:** Generate the Fibonacci sequence where each number is the sum of the two preceding ones.\u001b[0m\n",
       "\n",
       "\u001b[37m**Recursive Approach:**\u001b[0m\n",
       "\u001b[37m- **Base Cases:** If \\\u001b[0m\u001b[1;37m(\u001b[0m\u001b[37m n \\\u001b[0m\u001b[1;37m)\u001b[0m\u001b[37m is \u001b[0m\u001b[1;37m0\u001b[0m\u001b[37m, return \u001b[0m\u001b[1;37m0\u001b[0m\u001b[37m; if \\\u001b[0m\u001b[1;37m(\u001b[0m\u001b[37m n \\\u001b[0m\u001b[1;37m)\u001b[0m\u001b[37m is \u001b[0m\u001b[1;37m1\u001b[0m\u001b[37m, return \u001b[0m\u001b[1;37m1\u001b[0m\u001b[37m.\u001b[0m\n",
       "\u001b[37m- **Recursive Case:** Return the sum of the two preceding Fibonacci numbers.\u001b[0m\n",
       "\n",
       "\u001b[37m**Code Example:**\u001b[0m\n",
       "\u001b[37m```python\u001b[0m\n",
       "\u001b[37mdef \u001b[0m\u001b[1;37mfibonacci\u001b[0m\u001b[1;37m(\u001b[0m\u001b[37mn\u001b[0m\u001b[1;37m)\u001b[0m\u001b[37m:\u001b[0m\n",
       "\u001b[37m    if n == \u001b[0m\u001b[1;37m0\u001b[0m\u001b[37m:\u001b[0m\n",
       "\u001b[37m        return \u001b[0m\u001b[1;37m0\u001b[0m\n",
       "\u001b[37m    elif n == \u001b[0m\u001b[1;37m1\u001b[0m\u001b[37m:\u001b[0m\n",
       "\u001b[37m        return \u001b[0m\u001b[1;37m1\u001b[0m\n",
       "\u001b[37m    else:\u001b[0m\n",
       "\u001b[37m        return \u001b[0m\u001b[1;37mfibonacci\u001b[0m\u001b[1;37m(\u001b[0m\u001b[37mn - \u001b[0m\u001b[1;37m1\u001b[0m\u001b[1;37m)\u001b[0m\u001b[37m + \u001b[0m\u001b[1;37mfibonacci\u001b[0m\u001b[1;37m(\u001b[0m\u001b[37mn - \u001b[0m\u001b[1;37m2\u001b[0m\u001b[1;37m)\u001b[0m\n",
       "\u001b[37m```\u001b[0m\n",
       "\n",
       "\u001b[37m**Explanation:**\u001b[0m\n",
       "\u001b[37m- For `\u001b[0m\u001b[1;37mfibonacci\u001b[0m\u001b[1;37m(\u001b[0m\u001b[1;37m5\u001b[0m\u001b[1;37m)\u001b[0m\u001b[37m`, the function computes `\u001b[0m\u001b[1;37mfibonacci\u001b[0m\u001b[1;37m(\u001b[0m\u001b[1;37m4\u001b[0m\u001b[1;37m)\u001b[0m\u001b[37m + \u001b[0m\u001b[1;37mfibonacci\u001b[0m\u001b[1;37m(\u001b[0m\u001b[1;37m3\u001b[0m\u001b[1;37m)\u001b[0m\u001b[37m`.\u001b[0m\n",
       "\u001b[37m- Each subsequent call breaks down the problem further until reaching the base cases. However, this approach is \u001b[0m\n",
       "\u001b[37minefficient due to repeated calculations, highlighting the need for optimization techniques like memoization.\u001b[0m\n",
       "\n",
       "\u001b[37m#### \u001b[0m\u001b[1;37m3\u001b[0m\u001b[37m. Countdown Function\u001b[0m\n",
       "\n",
       "\u001b[37m**Objective:** Print numbers from \\\u001b[0m\u001b[1;37m(\u001b[0m\u001b[37m n \\\u001b[0m\u001b[1;37m)\u001b[0m\u001b[37m down to \u001b[0m\u001b[1;37m1\u001b[0m\u001b[37m.\u001b[0m\n",
       "\n",
       "\u001b[37m**Recursive Approach:**\u001b[0m\n",
       "\u001b[37m- **Base Case:** If \\\u001b[0m\u001b[1;37m(\u001b[0m\u001b[37m n \\\u001b[0m\u001b[1;37m)\u001b[0m\u001b[37m is \u001b[0m\u001b[1;37m0\u001b[0m\u001b[37m, do nothing.\u001b[0m\n",
       "\u001b[37m- **Recursive Case:** Print \\\u001b[0m\u001b[1;37m(\u001b[0m\u001b[37m n \\\u001b[0m\u001b[1;37m)\u001b[0m\u001b[37m and call the function with \\\u001b[0m\u001b[1;37m(\u001b[0m\u001b[37m n-\u001b[0m\u001b[1;37m1\u001b[0m\u001b[37m \\\u001b[0m\u001b[1;37m)\u001b[0m\u001b[37m.\u001b[0m\n",
       "\n",
       "\u001b[37m**Code Example:**\u001b[0m\n",
       "\u001b[37m```python\u001b[0m\n",
       "\u001b[37mdef \u001b[0m\u001b[1;37mcountdown\u001b[0m\u001b[1;37m(\u001b[0m\u001b[37mn\u001b[0m\u001b[1;37m)\u001b[0m\u001b[37m:\u001b[0m\n",
       "\u001b[37m    if n > \u001b[0m\u001b[1;37m0\u001b[0m\u001b[37m:\u001b[0m\n",
       "\u001b[37m        \u001b[0m\u001b[1;37mprint\u001b[0m\u001b[1;37m(\u001b[0m\u001b[37mn\u001b[0m\u001b[1;37m)\u001b[0m\n",
       "\u001b[37m        \u001b[0m\u001b[1;37mcountdown\u001b[0m\u001b[1;37m(\u001b[0m\u001b[37mn - \u001b[0m\u001b[1;37m1\u001b[0m\u001b[1;37m)\u001b[0m\n",
       "\u001b[37m```\u001b[0m\n",
       "\n",
       "\u001b[37m**Explanation:**\u001b[0m\n",
       "\u001b[37m- For `\u001b[0m\u001b[1;37mcountdown\u001b[0m\u001b[1;37m(\u001b[0m\u001b[1;37m5\u001b[0m\u001b[1;37m)\u001b[0m\u001b[37m`, the function prints \u001b[0m\u001b[1;37m5\u001b[0m\u001b[37m, then calls `\u001b[0m\u001b[1;37mcountdown\u001b[0m\u001b[1;37m(\u001b[0m\u001b[1;37m4\u001b[0m\u001b[1;37m)\u001b[0m\u001b[37m`, and continues until `\u001b[0m\u001b[1;37mcountdown\u001b[0m\u001b[1;37m(\u001b[0m\u001b[1;37m0\u001b[0m\u001b[1;37m)\u001b[0m\u001b[37m`, which \u001b[0m\n",
       "\u001b[37mstops the recursion.\u001b[0m\n",
       "\n",
       "\u001b[37m### Summary\u001b[0m\n",
       "\n",
       "\u001b[37mRecursion involves a function calling itself with a smaller problem size until a base case is reached. Each example\u001b[0m\n",
       "\u001b[37mdemonstrates how recursion breaks down a problem, processes it, and combines results. Understanding recursion is \u001b[0m\n",
       "\u001b[37mcrucial for solving problems that can be divided into similar subproblems efficiently.<｜end▁of▁sentence｜\u001b[0m\u001b[1;37m>\u001b[0m\n"
      ]
     },
     "metadata": {},
     "output_type": "display_data"
    }
   ],
   "source": [
    "reply = response[0].split('### Response:')[1]\n",
    "console.print(f\"[white]{reply}[/white]\")"
   ]
  },
  {
   "cell_type": "code",
   "execution_count": null,
   "metadata": {},
   "outputs": [],
   "source": []
  }
 ],
 "metadata": {
  "kernelspec": {
   "display_name": "Python 3",
   "language": "python",
   "name": "python3"
  },
  "language_info": {
   "codemirror_mode": {
    "name": "ipython",
    "version": 3
   },
   "file_extension": ".py",
   "mimetype": "text/x-python",
   "name": "python",
   "nbconvert_exporter": "python",
   "pygments_lexer": "ipython3",
   "version": "3.12.3"
  }
 },
 "nbformat": 4,
 "nbformat_minor": 2
}
